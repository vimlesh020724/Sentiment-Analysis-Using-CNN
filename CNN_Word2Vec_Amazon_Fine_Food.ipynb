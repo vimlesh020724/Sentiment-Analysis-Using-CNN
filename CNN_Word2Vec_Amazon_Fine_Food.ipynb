{
 "cells": [
  {
   "cell_type": "code",
   "execution_count": 2,
   "id": "438e07e9",
   "metadata": {},
   "outputs": [],
   "source": []
  },
  {
   "cell_type": "code",
   "execution_count": 1,
   "id": "7e5003b8",
   "metadata": {
    "tags": []
   },
   "outputs": [],
   "source": [
    "import re\n",
    "import nltk\n",
    "from nltk.corpus import stopwords\n",
    "\n",
    "\n",
    "import numpy as np\n",
    "import pandas as pd\n",
    "import matplotlib.pyplot as plt\n",
    "\n",
    "from keras.preprocessing.text import Tokenizer\n",
    "from keras.utils import pad_sequences\n",
    "\n",
    "from keras.layers import Conv1D, MaxPooling1D, Embedding, Concatenate, Dense, Input, Flatten\n",
    "from keras.models import Model\n",
    "\n",
    "from sklearn.model_selection import train_test_split\n",
    "from sklearn.metrics import f1_score, recall_score, precision_score, accuracy_score"
   ]
  },
  {
   "cell_type": "code",
   "execution_count": 2,
   "id": "77084f1c",
   "metadata": {
    "tags": []
   },
   "outputs": [],
   "source": [
    "MAX_SEQUENCE_LENGTH = 100\n",
    "MAX_NB_WORDS = 2000000\n",
    "EMBEDDING_DIM = 100"
   ]
  },
  {
   "cell_type": "code",
   "execution_count": 3,
   "id": "7c741a8c",
   "metadata": {
    "tags": []
   },
   "outputs": [],
   "source": [
    "df = pd.read_csv(\"Reviews.csv\")"
   ]
  },
  {
   "cell_type": "code",
   "execution_count": 4,
   "id": "31b60d5e",
   "metadata": {
    "tags": []
   },
   "outputs": [
    {
     "name": "stdout",
     "output_type": "stream",
     "text": [
      "<class 'pandas.core.frame.DataFrame'>\n",
      "RangeIndex: 568454 entries, 0 to 568453\n",
      "Data columns (total 10 columns):\n",
      " #   Column                  Non-Null Count   Dtype \n",
      "---  ------                  --------------   ----- \n",
      " 0   Id                      568454 non-null  int64 \n",
      " 1   ProductId               568454 non-null  object\n",
      " 2   UserId                  568454 non-null  object\n",
      " 3   ProfileName             568428 non-null  object\n",
      " 4   HelpfulnessNumerator    568454 non-null  int64 \n",
      " 5   HelpfulnessDenominator  568454 non-null  int64 \n",
      " 6   Score                   568454 non-null  int64 \n",
      " 7   Time                    568454 non-null  int64 \n",
      " 8   Summary                 568427 non-null  object\n",
      " 9   Text                    568454 non-null  object\n",
      "dtypes: int64(5), object(5)\n",
      "memory usage: 43.4+ MB\n"
     ]
    }
   ],
   "source": [
    "df.info()"
   ]
  },
  {
   "cell_type": "code",
   "execution_count": 5,
   "id": "1d166503",
   "metadata": {
    "tags": []
   },
   "outputs": [],
   "source": [
    "data = df.sample(n=20000)"
   ]
  },
  {
   "cell_type": "code",
   "execution_count": 6,
   "id": "6ed81304",
   "metadata": {
    "tags": []
   },
   "outputs": [
    {
     "name": "stdout",
     "output_type": "stream",
     "text": [
      "<class 'pandas.core.frame.DataFrame'>\n",
      "Index: 20000 entries, 523074 to 524852\n",
      "Data columns (total 10 columns):\n",
      " #   Column                  Non-Null Count  Dtype \n",
      "---  ------                  --------------  ----- \n",
      " 0   Id                      20000 non-null  int64 \n",
      " 1   ProductId               20000 non-null  object\n",
      " 2   UserId                  20000 non-null  object\n",
      " 3   ProfileName             20000 non-null  object\n",
      " 4   HelpfulnessNumerator    20000 non-null  int64 \n",
      " 5   HelpfulnessDenominator  20000 non-null  int64 \n",
      " 6   Score                   20000 non-null  int64 \n",
      " 7   Time                    20000 non-null  int64 \n",
      " 8   Summary                 19998 non-null  object\n",
      " 9   Text                    20000 non-null  object\n",
      "dtypes: int64(5), object(5)\n",
      "memory usage: 1.7+ MB\n"
     ]
    }
   ],
   "source": [
    "data.info()"
   ]
  },
  {
   "cell_type": "code",
   "execution_count": 7,
   "id": "889fb995",
   "metadata": {
    "tags": []
   },
   "outputs": [],
   "source": [
    "data.reset_index(inplace=True, drop=True)"
   ]
  },
  {
   "cell_type": "code",
   "execution_count": 8,
   "id": "7b08c9f3",
   "metadata": {
    "tags": []
   },
   "outputs": [],
   "source": [
    "wl = nltk.WordNetLemmatizer()\n",
    "ps = nltk.PorterStemmer()"
   ]
  },
  {
   "cell_type": "code",
   "execution_count": 9,
   "id": "06929f5f",
   "metadata": {
    "tags": []
   },
   "outputs": [],
   "source": [
    "def preprocess(text):\n",
    "    text = text.lower()\n",
    "    text = re.sub('[^a-zA-Z\\s]','',text)\n",
    "    stop = stopwords.words('english')\n",
    "    text = [ps.stem(wl.lemmatize(word)) for word in text.split() if word not in stop]\n",
    "    return text\n",
    "    "
   ]
  },
  {
   "cell_type": "code",
   "execution_count": 10,
   "id": "e196ae78",
   "metadata": {
    "tags": []
   },
   "outputs": [],
   "source": [
    "processed_data = data['Text'].map(preprocess)"
   ]
  },
  {
   "cell_type": "code",
   "execution_count": 11,
   "id": "ca0748ac",
   "metadata": {
    "tags": []
   },
   "outputs": [
    {
     "data": {
      "text/plain": [
       "29021"
      ]
     },
     "execution_count": 11,
     "metadata": {},
     "output_type": "execute_result"
    }
   ],
   "source": [
    "tokenizer = Tokenizer()#num_words = MAX_NB_WORDS)\n",
    "tokenizer.fit_on_texts(processed_data)\n",
    "sequences = tokenizer.texts_to_sequences(processed_data)\n",
    "\n",
    "word_index = tokenizer.word_index\n",
    "len(word_index)"
   ]
  },
  {
   "cell_type": "code",
   "execution_count": 12,
   "id": "a490e0b0",
   "metadata": {
    "tags": []
   },
   "outputs": [
    {
     "data": {
      "image/png": "[encoded data removed]",
      "text/plain": [
       "<Figure size 640x480 with 1 Axes>"
      ]
     },
     "metadata": {},
     "output_type": "display_data"
    }
   ],
   "source": [
    "dct = []\n",
    "for i in sequences:\n",
    "    dct.append(len(i))\n",
    "        \n",
    "plt.hist(dct)\n",
    "plt.show()"
   ]
  },
  {
   "cell_type": "code",
   "execution_count": 13,
   "id": "a807ca8f-b1c9-4220-802a-a9af20b0a0a7",
   "metadata": {
    "tags": []
   },
   "outputs": [],
   "source": [
    "# labels = np.asarray(data['Score']).astype(np.float32)"
   ]
  },
  {
   "cell_type": "code",
   "execution_count": 14,
   "id": "2b71a5af",
   "metadata": {
    "tags": []
   },
   "outputs": [
    {
     "data": {
      "text/plain": [
       "((20000, 100), (20000, 5))"
      ]
     },
     "execution_count": 14,
     "metadata": {},
     "output_type": "execute_result"
    }
   ],
   "source": [
    "final = pad_sequences(sequences, MAX_SEQUENCE_LENGTH)\n",
    "labels = pd.get_dummies(data['Score'],dtype='int')\n",
    "final.shape, labels.shape\n",
    "\n",
    "# features = pad_sequences(sequences, MAX_SEQUENCE_LENGTH)\n",
    "\n",
    "# features.shape, labels.shape"
   ]
  },
  {
   "cell_type": "code",
   "execution_count": 15,
   "id": "8059720e",
   "metadata": {
    "tags": []
   },
   "outputs": [
    {
     "data": {
      "text/html": [
       "<div>\n",
       "<style scoped>\n",
       "    .dataframe tbody tr th:only-of-type {\n",
       "        vertical-align: middle;\n",
       "    }\n",
       "\n",
       "    .dataframe tbody tr th {\n",
       "        vertical-align: top;\n",
       "    }\n",
       "\n",
       "    .dataframe thead th {\n",
       "        text-align: right;\n",
       "    }\n",
       "</style>\n",
       "<table border=\"1\" class=\"dataframe\">\n",
       "  <thead>\n",
       "    <tr style=\"text-align: right;\">\n",
       "      <th></th>\n",
       "      <th>1</th>\n",
       "      <th>2</th>\n",
       "      <th>3</th>\n",
       "      <th>4</th>\n",
       "      <th>5</th>\n",
       "    </tr>\n",
       "  </thead>\n",
       "  <tbody>\n",
       "    <tr>\n",
       "      <th>0</th>\n",
       "      <td>0</td>\n",
       "      <td>0</td>\n",
       "      <td>0</td>\n",
       "      <td>1</td>\n",
       "      <td>0</td>\n",
       "    </tr>\n",
       "    <tr>\n",
       "      <th>1</th>\n",
       "      <td>0</td>\n",
       "      <td>0</td>\n",
       "      <td>0</td>\n",
       "      <td>0</td>\n",
       "      <td>1</td>\n",
       "    </tr>\n",
       "    <tr>\n",
       "      <th>2</th>\n",
       "      <td>0</td>\n",
       "      <td>0</td>\n",
       "      <td>0</td>\n",
       "      <td>0</td>\n",
       "      <td>1</td>\n",
       "    </tr>\n",
       "    <tr>\n",
       "      <th>3</th>\n",
       "      <td>1</td>\n",
       "      <td>0</td>\n",
       "      <td>0</td>\n",
       "      <td>0</td>\n",
       "      <td>0</td>\n",
       "    </tr>\n",
       "    <tr>\n",
       "      <th>4</th>\n",
       "      <td>0</td>\n",
       "      <td>0</td>\n",
       "      <td>0</td>\n",
       "      <td>1</td>\n",
       "      <td>0</td>\n",
       "    </tr>\n",
       "  </tbody>\n",
       "</table>\n",
       "</div>"
      ],
      "text/plain": [
       "   1  2  3  4  5\n",
       "0  0  0  0  1  0\n",
       "1  0  0  0  0  1\n",
       "2  0  0  0  0  1\n",
       "3  1  0  0  0  0\n",
       "4  0  0  0  1  0"
      ]
     },
     "execution_count": 15,
     "metadata": {},
     "output_type": "execute_result"
    }
   ],
   "source": [
    "labels.head()"
   ]
  },
  {
   "cell_type": "code",
   "execution_count": 16,
   "id": "62bcf6dd",
   "metadata": {
    "tags": []
   },
   "outputs": [
    {
     "data": {
      "text/plain": [
       "((16000, 100), (10000, 100), (10000, 100), (16000, 5), (10000, 5), (10000, 5))"
      ]
     },
     "execution_count": 16,
     "metadata": {},
     "output_type": "execute_result"
    }
   ],
   "source": [
    "x_train, x_test, y_train, y_test = train_test_split(final, labels, test_size = 0.2, random_state = 20)\n",
    "x_test, x_val, y_test, y_val = train_test_split( final, labels, test_size=0.50, random_state=4)\n",
    "x_train.shape, x_test.shape, x_val.shape, y_train.shape, y_test.shape, y_val.shape\n",
    "\n",
    "# x_train, x_test, y_train, y_test = train_test_split( features, labels, test_size=0.20, random_state=42)\n",
    "# x_test, x_val, y_test, y_val = train_test_split( features, labels, test_size=0.50, random_state=4)\n",
    "# x_train.shape, y_train.shape"
   ]
  },
  {
   "cell_type": "code",
   "execution_count": 17,
   "id": "00e11828",
   "metadata": {
    "tags": []
   },
   "outputs": [],
   "source": [
    "embedding_layer = Embedding(len(word_index) + 1,\n",
    "                            EMBEDDING_DIM,\n",
    "                            input_length=MAX_SEQUENCE_LENGTH)"
   ]
  },
  {
   "cell_type": "code",
   "execution_count": 18,
   "id": "1430fb7e",
   "metadata": {
    "tags": []
   },
   "outputs": [
    {
     "name": "stdout",
     "output_type": "stream",
     "text": [
      "Model: \"model\"\n",
      "__________________________________________________________________________________________________\n",
      " Layer (type)                Output Shape                 Param #   Connected to                  \n",
      "==================================================================================================\n",
      " input_1 (InputLayer)        [(None, 100)]                0         []                            \n",
      "                                                                                                  \n",
      " embedding (Embedding)       (None, 100, 100)             2902200   ['input_1[0][0]']             \n",
      "                                                                                                  \n",
      " conv1d (Conv1D)             (None, 98, 128)              38528     ['embedding[0][0]']           \n",
      "                                                                                                  \n",
      " conv1d_1 (Conv1D)           (None, 97, 128)              51328     ['embedding[0][0]']           \n",
      "                                                                                                  \n",
      " conv1d_2 (Conv1D)           (None, 96, 128)              64128     ['embedding[0][0]']           \n",
      "                                                                                                  \n",
      " max_pooling1d (MaxPooling1  (None, 19, 128)              0         ['conv1d[0][0]']              \n",
      " D)                                                                                               \n",
      "                                                                                                  \n",
      " max_pooling1d_1 (MaxPoolin  (None, 19, 128)              0         ['conv1d_1[0][0]']            \n",
      " g1D)                                                                                             \n",
      "                                                                                                  \n",
      " max_pooling1d_2 (MaxPoolin  (None, 19, 128)              0         ['conv1d_2[0][0]']            \n",
      " g1D)                                                                                             \n",
      "                                                                                                  \n",
      " concatenate (Concatenate)   (None, 19, 384)              0         ['max_pooling1d[0][0]',       \n",
      "                                                                     'max_pooling1d_1[0][0]',     \n",
      "                                                                     'max_pooling1d_2[0][0]']     \n",
      "                                                                                                  \n",
      " conv1d_3 (Conv1D)           (None, 15, 128)              245888    ['concatenate[0][0]']         \n",
      "                                                                                                  \n",
      " max_pooling1d_3 (MaxPoolin  (None, 3, 128)               0         ['conv1d_3[0][0]']            \n",
      " g1D)                                                                                             \n",
      "                                                                                                  \n",
      " flatten (Flatten)           (None, 384)                  0         ['max_pooling1d_3[0][0]']     \n",
      "                                                                                                  \n",
      " dense (Dense)               (None, 128)                  49280     ['flatten[0][0]']             \n",
      "                                                                                                  \n",
      " dense_1 (Dense)             (None, 5)                    645       ['dense[0][0]']               \n",
      "                                                                                                  \n",
      "==================================================================================================\n",
      "Total params: 3351997 (12.79 MB)\n",
      "Trainable params: 3351997 (12.79 MB)\n",
      "Non-trainable params: 0 (0.00 Byte)\n",
      "__________________________________________________________________________________________________\n"
     ]
    }
   ],
   "source": [
    "convs = []\n",
    "filter_sizes = [3,4,5]\n",
    "\n",
    "sequence_input = Input(shape=(MAX_SEQUENCE_LENGTH,))\n",
    "embedded_sequences = embedding_layer(sequence_input)\n",
    "\n",
    "for fsz in filter_sizes:\n",
    "    l_conv = Conv1D(128,fsz,activation='relu')(embedded_sequences)\n",
    "    l_pool = MaxPooling1D(5)(l_conv)\n",
    "    convs.append(l_pool)   \n",
    "l_merge = Concatenate()(convs)\n",
    "l_cov1= Conv1D(filters=128, kernel_size=5, activation='relu')(l_merge)\n",
    "l_pool1 = MaxPooling1D(5)(l_cov1)\n",
    "# l_cov2 = Conv1D(filters=128, kernel_size=5, activation='relu')(l_pool1)\n",
    "# l_pool2 = MaxPooling1D(30)(l_cov2)\n",
    "l_flat = Flatten()(l_pool1)\n",
    "l_dense = Dense(128, activation='relu')(l_flat)\n",
    "preds = Dense(5, activation='softmax')(l_dense)\n",
    "\n",
    "model = Model(sequence_input, preds)\n",
    "model.compile(loss='binary_crossentropy',\n",
    "              optimizer='adam',\n",
    "              metrics=['acc'])\n",
    "\n",
    "model.summary()\n"
   ]
  },
  {
   "cell_type": "code",
   "execution_count": 19,
   "id": "7deed538",
   "metadata": {
    "tags": []
   },
   "outputs": [
    {
     "name": "stdout",
     "output_type": "stream",
     "text": [
      "Epoch 1/25\n",
      "107/107 [==============================] - 78s 626ms/step - loss: 0.3683 - acc: 0.6352 - val_loss: 0.3117 - val_acc: 0.6470\n",
      "Epoch 2/25\n",
      "107/107 [==============================] - 65s 606ms/step - loss: 0.2919 - acc: 0.6710 - val_loss: 0.2570 - val_acc: 0.7043\n",
      "Epoch 3/25\n",
      "107/107 [==============================] - 80s 752ms/step - loss: 0.2415 - acc: 0.7174 - val_loss: 0.2216 - val_acc: 0.7513\n",
      "Epoch 4/25\n",
      "107/107 [==============================] - 91s 857ms/step - loss: 0.1938 - acc: 0.7791 - val_loss: 0.1890 - val_acc: 0.7911\n",
      "Epoch 5/25\n",
      "107/107 [==============================] - 90s 839ms/step - loss: 0.1467 - acc: 0.8371 - val_loss: 0.1676 - val_acc: 0.8401\n",
      "Epoch 6/25\n",
      "107/107 [==============================] - 92s 866ms/step - loss: 0.1073 - acc: 0.8865 - val_loss: 0.1744 - val_acc: 0.8558\n",
      "Epoch 7/25\n",
      "107/107 [==============================] - 91s 854ms/step - loss: 0.0775 - acc: 0.9214 - val_loss: 0.1690 - val_acc: 0.8760\n",
      "Epoch 8/25\n",
      "107/107 [==============================] - 90s 844ms/step - loss: 0.0578 - acc: 0.9429 - val_loss: 0.1778 - val_acc: 0.8931\n",
      "Epoch 9/25\n",
      "107/107 [==============================] - 91s 855ms/step - loss: 0.0436 - acc: 0.9591 - val_loss: 0.1941 - val_acc: 0.8898\n",
      "Epoch 10/25\n",
      "107/107 [==============================] - 92s 857ms/step - loss: 0.0345 - acc: 0.9701 - val_loss: 0.2162 - val_acc: 0.9062\n",
      "Epoch 11/25\n",
      "107/107 [==============================] - 92s 858ms/step - loss: 0.0291 - acc: 0.9759 - val_loss: 0.2189 - val_acc: 0.9038\n",
      "Epoch 12/25\n",
      "107/107 [==============================] - 92s 857ms/step - loss: 0.0230 - acc: 0.9812 - val_loss: 0.2289 - val_acc: 0.9101\n",
      "Epoch 13/25\n",
      "107/107 [==============================] - 77s 720ms/step - loss: 0.0153 - acc: 0.9884 - val_loss: 0.2421 - val_acc: 0.9153\n",
      "Epoch 14/25\n",
      "107/107 [==============================] - 73s 681ms/step - loss: 0.0113 - acc: 0.9932 - val_loss: 0.2471 - val_acc: 0.9142\n",
      "Epoch 15/25\n",
      "107/107 [==============================] - 72s 672ms/step - loss: 0.0069 - acc: 0.9962 - val_loss: 0.2715 - val_acc: 0.9146\n",
      "Epoch 16/25\n",
      "107/107 [==============================] - 64s 593ms/step - loss: 0.0041 - acc: 0.9981 - val_loss: 0.2863 - val_acc: 0.9123\n",
      "Epoch 17/25\n",
      "107/107 [==============================] - 48s 452ms/step - loss: 0.0027 - acc: 0.9992 - val_loss: 0.2896 - val_acc: 0.9172\n",
      "Epoch 18/25\n",
      "107/107 [==============================] - 48s 452ms/step - loss: 0.0020 - acc: 0.9992 - val_loss: 0.3124 - val_acc: 0.9197\n",
      "Epoch 19/25\n",
      "107/107 [==============================] - 49s 458ms/step - loss: 0.0019 - acc: 0.9993 - val_loss: 0.3282 - val_acc: 0.9142\n",
      "Epoch 20/25\n",
      "107/107 [==============================] - 48s 447ms/step - loss: 0.0040 - acc: 0.9979 - val_loss: 0.3216 - val_acc: 0.9171\n",
      "Epoch 21/25\n",
      "107/107 [==============================] - 49s 458ms/step - loss: 0.0165 - acc: 0.9900 - val_loss: 0.3358 - val_acc: 0.9092\n",
      "Epoch 22/25\n",
      "107/107 [==============================] - 43s 398ms/step - loss: 0.0441 - acc: 0.9669 - val_loss: 0.2145 - val_acc: 0.9063\n",
      "Epoch 23/25\n",
      "107/107 [==============================] - 43s 401ms/step - loss: 0.0219 - acc: 0.9837 - val_loss: 0.2352 - val_acc: 0.9080\n",
      "Epoch 24/25\n",
      "107/107 [==============================] - 40s 378ms/step - loss: 0.0083 - acc: 0.9947 - val_loss: 0.2620 - val_acc: 0.9180\n",
      "Epoch 25/25\n",
      "107/107 [==============================] - 41s 384ms/step - loss: 0.0044 - acc: 0.9977 - val_loss: 0.2753 - val_acc: 0.9206\n"
     ]
    }
   ],
   "source": [
    "history = model.fit(x_train, y_train, validation_data=(x_val, y_val),\n",
    "          epochs=25, batch_size=150)"
   ]
  },
  {
   "cell_type": "code",
   "execution_count": 20,
   "id": "53c0c57d",
   "metadata": {},
   "outputs": [
    {
     "name": "stdout",
     "output_type": "stream",
     "text": [
      "dict_keys(['loss', 'acc', 'val_loss', 'val_acc'])\n"
     ]
    },
    {
     "data": {
      "image/png": "[encoded data removed]",
      "text/plain": [
       "<Figure size 640x480 with 1 Axes>"
      ]
     },
     "metadata": {},
     "output_type": "display_data"
    },
    {
     "data": {
      "image/png": "[encoded data removed]",
      "text/plain": [
       "<Figure size 640x480 with 1 Axes>"
      ]
     },
     "metadata": {},
     "output_type": "display_data"
    }
   ],
   "source": [
    "import matplotlib.pyplot as plt\n",
    "%matplotlib inline \n",
    "# list all data in history\n",
    "print(history.history.keys())\n",
    "# summarize history for accuracy\n",
    "plt.plot(history.history['acc'])\n",
    "plt.plot(history.history['val_acc'])\n",
    "plt.title('model accuracy')\n",
    "plt.ylabel('accuracy')\n",
    "plt.xlabel('epoch')\n",
    "plt.legend(['train', 'test'], loc='upper left')\n",
    "plt.show()\n",
    "# summarize history for loss\n",
    "plt.plot(history.history['loss'])\n",
    "plt.plot(history.history['val_loss'])\n",
    "plt.title('model loss')\n",
    "plt.ylabel('loss')\n",
    "plt.xlabel('epoch')\n",
    "plt.legend(['train', 'test'], loc='upper left')\n",
    "plt.show()"
   ]
  },
  {
   "cell_type": "code",
   "execution_count": 21,
   "id": "77b0de3b",
   "metadata": {},
   "outputs": [
    {
     "name": "stdout",
     "output_type": "stream",
     "text": [
      "313/313 [==============================] - 4s 13ms/step\n"
     ]
    }
   ],
   "source": [
    "y_pred = model.predict(x_test, verbose=1)"
   ]
  },
  {
   "cell_type": "code",
   "execution_count": 22,
   "id": "f1d0ec85",
   "metadata": {},
   "outputs": [
    {
     "name": "stdout",
     "output_type": "stream",
     "text": [
      "f1 0.9206\n",
      "r1 0.9206\n",
      "p1 0.9206\n",
      "acc 0.9206\n"
     ]
    }
   ],
   "source": [
    "def fx(array):\n",
    "    return np.argmax(array)\n",
    "\n",
    "temp = np.array(y_test)\n",
    "st_pred = y_pred.tolist()\n",
    "st_temp = temp.tolist()\n",
    "\n",
    "arr = np.array(list(map(fx,st_temp)))\n",
    "ans = np.array(list(map(fx,st_pred)))\n",
    "f1 = f1_score(arr,ans, average='micro')\n",
    "r1 = recall_score(arr, ans, average='micro')\n",
    "p1 = precision_score(arr,ans, average='micro')\n",
    "acc = accuracy_score(arr,ans)\n",
    "print('f1',f1)\n",
    "print('r1',r1)\n",
    "print('p1',p1)\n",
    "print('acc', acc)"
   ]
  },
  {
   "cell_type": "code",
   "execution_count": null,
   "id": "95b19af7",
   "metadata": {},
   "outputs": [],
   "source": [
    "cm = confusion_matrix(arr, ans)\n",
    "cm"
   ]
  }
 ],
 "metadata": {
  "kernelspec": {
   "display_name": "Python 3 (ipykernel)",
   "language": "python",
   "name": "python3"
  },
  "language_info": {
   "codemirror_mode": {
    "name": "ipython",
    "version": 3
   },
   "file_extension": ".py",
   "mimetype": "text/x-python",
   "name": "python",
   "nbconvert_exporter": "python",
   "pygments_lexer": "ipython3",
   "version": "3.10.11"
  }
 },
 "nbformat": 4,
 "nbformat_minor": 5
}
