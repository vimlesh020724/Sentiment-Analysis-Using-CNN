{
 "cells": [
  {
   "cell_type": "code",
   "execution_count": 2,
   "id": "438e07e9",
   "metadata": {},
   "outputs": [],
   "source": []
  },
  {
   "cell_type": "code",
   "execution_count": 23,
   "id": "7e5003b8",
   "metadata": {
    "tags": []
   },
   "outputs": [],
   "source": [
    "import re\n",
    "import nltk\n",
    "import fasttext\n",
    "from nltk.corpus import stopwords\n",
    "\n",
    "\n",
    "import numpy as np\n",
    "import pandas as pd\n",
    "import matplotlib.pyplot as plt\n",
    "\n",
    "from keras.preprocessing.text import Tokenizer\n",
    "from keras.utils import pad_sequences\n",
    "\n",
    "from keras.layers import Conv1D, MaxPooling1D, Embedding, Concatenate, Dense, Input, Flatten\n",
    "from keras.models import Model\n",
    "\n",
    "from sklearn.model_selection import train_test_split\n",
    "from sklearn.metrics import f1_score, recall_score, precision_score, accuracy_score, confusion_matrix"
   ]
  },
  {
   "cell_type": "code",
   "execution_count": 2,
   "id": "77084f1c",
   "metadata": {
    "tags": []
   },
   "outputs": [],
   "source": [
    "MAX_SEQUENCE_LENGTH = 100\n",
    "MAX_NB_WORDS = 2000000\n",
    "EMBEDDING_DIM = 100"
   ]
  },
  {
   "cell_type": "code",
   "execution_count": 3,
   "id": "7c741a8c",
   "metadata": {
    "tags": []
   },
   "outputs": [],
   "source": [
    "df = pd.read_csv(\"Reviews.csv\")"
   ]
  },
  {
   "cell_type": "code",
   "execution_count": 4,
   "id": "31b60d5e",
   "metadata": {
    "tags": []
   },
   "outputs": [
    {
     "name": "stdout",
     "output_type": "stream",
     "text": [
      "<class 'pandas.core.frame.DataFrame'>\n",
      "RangeIndex: 568454 entries, 0 to 568453\n",
      "Data columns (total 10 columns):\n",
      " #   Column                  Non-Null Count   Dtype \n",
      "---  ------                  --------------   ----- \n",
      " 0   Id                      568454 non-null  int64 \n",
      " 1   ProductId               568454 non-null  object\n",
      " 2   UserId                  568454 non-null  object\n",
      " 3   ProfileName             568428 non-null  object\n",
      " 4   HelpfulnessNumerator    568454 non-null  int64 \n",
      " 5   HelpfulnessDenominator  568454 non-null  int64 \n",
      " 6   Score                   568454 non-null  int64 \n",
      " 7   Time                    568454 non-null  int64 \n",
      " 8   Summary                 568427 non-null  object\n",
      " 9   Text                    568454 non-null  object\n",
      "dtypes: int64(5), object(5)\n",
      "memory usage: 43.4+ MB\n"
     ]
    }
   ],
   "source": [
    "df.info()"
   ]
  },
  {
   "cell_type": "code",
   "execution_count": 5,
   "id": "1d166503",
   "metadata": {
    "tags": []
   },
   "outputs": [],
   "source": [
    "data = df.sample(n=20000)"
   ]
  },
  {
   "cell_type": "code",
   "execution_count": 6,
   "id": "6ed81304",
   "metadata": {
    "tags": []
   },
   "outputs": [
    {
     "name": "stdout",
     "output_type": "stream",
     "text": [
      "<class 'pandas.core.frame.DataFrame'>\n",
      "Index: 20000 entries, 450040 to 423735\n",
      "Data columns (total 10 columns):\n",
      " #   Column                  Non-Null Count  Dtype \n",
      "---  ------                  --------------  ----- \n",
      " 0   Id                      20000 non-null  int64 \n",
      " 1   ProductId               20000 non-null  object\n",
      " 2   UserId                  20000 non-null  object\n",
      " 3   ProfileName             20000 non-null  object\n",
      " 4   HelpfulnessNumerator    20000 non-null  int64 \n",
      " 5   HelpfulnessDenominator  20000 non-null  int64 \n",
      " 6   Score                   20000 non-null  int64 \n",
      " 7   Time                    20000 non-null  int64 \n",
      " 8   Summary                 19997 non-null  object\n",
      " 9   Text                    20000 non-null  object\n",
      "dtypes: int64(5), object(5)\n",
      "memory usage: 1.7+ MB\n"
     ]
    }
   ],
   "source": [
    "data.info()"
   ]
  },
  {
   "cell_type": "code",
   "execution_count": 7,
   "id": "889fb995",
   "metadata": {
    "tags": []
   },
   "outputs": [],
   "source": [
    "data.reset_index(inplace=True, drop=True)"
   ]
  },
  {
   "cell_type": "code",
   "execution_count": 8,
   "id": "7b08c9f3",
   "metadata": {
    "tags": []
   },
   "outputs": [],
   "source": [
    "wl = nltk.WordNetLemmatizer()\n",
    "ps = nltk.PorterStemmer()"
   ]
  },
  {
   "cell_type": "code",
   "execution_count": 9,
   "id": "06929f5f",
   "metadata": {
    "tags": []
   },
   "outputs": [],
   "source": [
    "def preprocess(text):\n",
    "    text = text.lower()\n",
    "    text = re.sub('[^a-zA-Z\\s]','',text)\n",
    "    stop = stopwords.words('english')\n",
    "    text = [ps.stem(wl.lemmatize(word)) for word in text.split() if word not in stop]\n",
    "    return text\n",
    "    "
   ]
  },
  {
   "cell_type": "code",
   "execution_count": 10,
   "id": "e196ae78",
   "metadata": {
    "tags": []
   },
   "outputs": [],
   "source": [
    "processed_data = data['Text'].map(preprocess)"
   ]
  },
  {
   "cell_type": "code",
   "execution_count": 11,
   "id": "ca0748ac",
   "metadata": {
    "tags": []
   },
   "outputs": [
    {
     "data": {
      "text/plain": [
       "29680"
      ]
     },
     "execution_count": 11,
     "metadata": {},
     "output_type": "execute_result"
    }
   ],
   "source": [
    "tokenizer = Tokenizer()#num_words = MAX_NB_WORDS)\n",
    "tokenizer.fit_on_texts(data['Text'])\n",
    "sequences = tokenizer.texts_to_sequences(data['Text'])\n",
    "\n",
    "word_index = tokenizer.word_index\n",
    "len(word_index)"
   ]
  },
  {
   "cell_type": "code",
   "execution_count": 12,
   "id": "a490e0b0",
   "metadata": {
    "tags": []
   },
   "outputs": [
    {
     "data": {
      "image/png": "[encoded data removed]",
      "text/plain": [
       "<Figure size 640x480 with 1 Axes>"
      ]
     },
     "metadata": {},
     "output_type": "display_data"
    }
   ],
   "source": [
    "dct = []\n",
    "for i in sequences:\n",
    "    dct.append(len(i))\n",
    "        \n",
    "plt.hist(dct)\n",
    "plt.show()"
   ]
  },
  {
   "cell_type": "code",
   "execution_count": 13,
   "id": "2b71a5af",
   "metadata": {
    "tags": []
   },
   "outputs": [
    {
     "data": {
      "text/plain": [
       "((20000, 100), (20000, 5))"
      ]
     },
     "execution_count": 13,
     "metadata": {},
     "output_type": "execute_result"
    }
   ],
   "source": [
    "final = pad_sequences(sequences, MAX_SEQUENCE_LENGTH)\n",
    "labels = pd.get_dummies(data['Score'],dtype='int')\n",
    "final.shape, labels.shape"
   ]
  },
  {
   "cell_type": "code",
   "execution_count": 14,
   "id": "8059720e",
   "metadata": {
    "tags": []
   },
   "outputs": [
    {
     "data": {
      "text/html": [
       "<div>\n",
       "<style scoped>\n",
       "    .dataframe tbody tr th:only-of-type {\n",
       "        vertical-align: middle;\n",
       "    }\n",
       "\n",
       "    .dataframe tbody tr th {\n",
       "        vertical-align: top;\n",
       "    }\n",
       "\n",
       "    .dataframe thead th {\n",
       "        text-align: right;\n",
       "    }\n",
       "</style>\n",
       "<table border=\"1\" class=\"dataframe\">\n",
       "  <thead>\n",
       "    <tr style=\"text-align: right;\">\n",
       "      <th></th>\n",
       "      <th>1</th>\n",
       "      <th>2</th>\n",
       "      <th>3</th>\n",
       "      <th>4</th>\n",
       "      <th>5</th>\n",
       "    </tr>\n",
       "  </thead>\n",
       "  <tbody>\n",
       "    <tr>\n",
       "      <th>0</th>\n",
       "      <td>0</td>\n",
       "      <td>0</td>\n",
       "      <td>0</td>\n",
       "      <td>1</td>\n",
       "      <td>0</td>\n",
       "    </tr>\n",
       "    <tr>\n",
       "      <th>1</th>\n",
       "      <td>0</td>\n",
       "      <td>0</td>\n",
       "      <td>0</td>\n",
       "      <td>0</td>\n",
       "      <td>1</td>\n",
       "    </tr>\n",
       "    <tr>\n",
       "      <th>2</th>\n",
       "      <td>0</td>\n",
       "      <td>0</td>\n",
       "      <td>1</td>\n",
       "      <td>0</td>\n",
       "      <td>0</td>\n",
       "    </tr>\n",
       "    <tr>\n",
       "      <th>3</th>\n",
       "      <td>1</td>\n",
       "      <td>0</td>\n",
       "      <td>0</td>\n",
       "      <td>0</td>\n",
       "      <td>0</td>\n",
       "    </tr>\n",
       "    <tr>\n",
       "      <th>4</th>\n",
       "      <td>0</td>\n",
       "      <td>0</td>\n",
       "      <td>0</td>\n",
       "      <td>0</td>\n",
       "      <td>1</td>\n",
       "    </tr>\n",
       "  </tbody>\n",
       "</table>\n",
       "</div>"
      ],
      "text/plain": [
       "   1  2  3  4  5\n",
       "0  0  0  0  1  0\n",
       "1  0  0  0  0  1\n",
       "2  0  0  1  0  0\n",
       "3  1  0  0  0  0\n",
       "4  0  0  0  0  1"
      ]
     },
     "execution_count": 14,
     "metadata": {},
     "output_type": "execute_result"
    }
   ],
   "source": [
    "labels.head()"
   ]
  },
  {
   "cell_type": "code",
   "execution_count": 15,
   "id": "62bcf6dd",
   "metadata": {
    "tags": []
   },
   "outputs": [
    {
     "data": {
      "text/plain": [
       "((16000, 100), (10000, 100), (10000, 100), (16000, 5), (10000, 5), (10000, 5))"
      ]
     },
     "execution_count": 15,
     "metadata": {},
     "output_type": "execute_result"
    }
   ],
   "source": [
    "x_train, x_test, y_train, y_test = train_test_split(final, labels, test_size = 0.2, random_state = 20)\n",
    "x_test, x_val, y_test, y_val = train_test_split( final, labels, test_size=0.50, random_state=4)\n",
    "x_train.shape, x_test.shape, x_val.shape, y_train.shape, y_test.shape, y_val.shape"
   ]
  },
  {
   "cell_type": "code",
   "execution_count": 16,
   "id": "00e11828",
   "metadata": {
    "tags": []
   },
   "outputs": [],
   "source": [
    "# using fasttext\n",
    "embd = fasttext.load_model(r\"fasttext_embedding_model.bin\")\n",
    "\n",
    "embedding_matrix = np.random.random((len(word_index) + 1, EMBEDDING_DIM))\n",
    "for word, i in word_index.items():\n",
    "    embedding_vector = embd.get_word_vector(word)\n",
    "    if embedding_vector is not None:\n",
    "        # words not found in embedding index will be all-zeros.\n",
    "        embedding_matrix[i] = embedding_vector\n",
    "        \n",
    "embedding_layer = Embedding(len(word_index) + 1,\n",
    "                            EMBEDDING_DIM,\n",
    "                            weights=[embedding_matrix],\n",
    "                            input_length=MAX_SEQUENCE_LENGTH)"
   ]
  },
  {
   "cell_type": "code",
   "execution_count": 17,
   "id": "1430fb7e",
   "metadata": {
    "tags": []
   },
   "outputs": [
    {
     "name": "stdout",
     "output_type": "stream",
     "text": [
      "Model: \"model\"\n",
      "__________________________________________________________________________________________________\n",
      " Layer (type)                Output Shape                 Param #   Connected to                  \n",
      "==================================================================================================\n",
      " input_1 (InputLayer)        [(None, 100)]                0         []                            \n",
      "                                                                                                  \n",
      " embedding (Embedding)       (None, 100, 100)             2968100   ['input_1[0][0]']             \n",
      "                                                                                                  \n",
      " conv1d (Conv1D)             (None, 98, 128)              38528     ['embedding[0][0]']           \n",
      "                                                                                                  \n",
      " conv1d_1 (Conv1D)           (None, 97, 128)              51328     ['embedding[0][0]']           \n",
      "                                                                                                  \n",
      " conv1d_2 (Conv1D)           (None, 96, 128)              64128     ['embedding[0][0]']           \n",
      "                                                                                                  \n",
      " max_pooling1d (MaxPooling1  (None, 19, 128)              0         ['conv1d[0][0]']              \n",
      " D)                                                                                               \n",
      "                                                                                                  \n",
      " max_pooling1d_1 (MaxPoolin  (None, 19, 128)              0         ['conv1d_1[0][0]']            \n",
      " g1D)                                                                                             \n",
      "                                                                                                  \n",
      " max_pooling1d_2 (MaxPoolin  (None, 19, 128)              0         ['conv1d_2[0][0]']            \n",
      " g1D)                                                                                             \n",
      "                                                                                                  \n",
      " concatenate (Concatenate)   (None, 19, 384)              0         ['max_pooling1d[0][0]',       \n",
      "                                                                     'max_pooling1d_1[0][0]',     \n",
      "                                                                     'max_pooling1d_2[0][0]']     \n",
      "                                                                                                  \n",
      " conv1d_3 (Conv1D)           (None, 15, 128)              245888    ['concatenate[0][0]']         \n",
      "                                                                                                  \n",
      " max_pooling1d_3 (MaxPoolin  (None, 3, 128)               0         ['conv1d_3[0][0]']            \n",
      " g1D)                                                                                             \n",
      "                                                                                                  \n",
      " flatten (Flatten)           (None, 384)                  0         ['max_pooling1d_3[0][0]']     \n",
      "                                                                                                  \n",
      " dense (Dense)               (None, 128)                  49280     ['flatten[0][0]']             \n",
      "                                                                                                  \n",
      " dense_1 (Dense)             (None, 5)                    645       ['dense[0][0]']               \n",
      "                                                                                                  \n",
      "==================================================================================================\n",
      "Total params: 3417897 (13.04 MB)\n",
      "Trainable params: 3417897 (13.04 MB)\n",
      "Non-trainable params: 0 (0.00 Byte)\n",
      "__________________________________________________________________________________________________\n"
     ]
    }
   ],
   "source": [
    "convs = []\n",
    "filter_sizes = [3,4,5]\n",
    "\n",
    "sequence_input = Input(shape=(MAX_SEQUENCE_LENGTH,))\n",
    "embedded_sequences = embedding_layer(sequence_input)\n",
    "\n",
    "for fsz in filter_sizes:\n",
    "    l_conv = Conv1D(128,fsz,activation='relu')(embedded_sequences)\n",
    "    l_pool = MaxPooling1D(5)(l_conv)\n",
    "    convs.append(l_pool)   \n",
    "l_merge = Concatenate()(convs)\n",
    "l_cov1= Conv1D(filters=128, kernel_size=5, activation='relu')(l_merge)\n",
    "l_pool1 = MaxPooling1D(5)(l_cov1)\n",
    "# l_cov2 = Conv1D(filters=128, kernel_size=5, activation='relu')(l_pool1)\n",
    "# l_pool2 = MaxPooling1D(30)(l_cov2)\n",
    "l_flat = Flatten()(l_pool1)\n",
    "l_dense = Dense(128, activation='relu')(l_flat)\n",
    "preds = Dense(5, activation='softmax')(l_dense)\n",
    "\n",
    "model = Model(sequence_input, preds)\n",
    "model.compile(loss='binary_crossentropy',\n",
    "              optimizer='adam',\n",
    "              metrics=['acc'])\n",
    "\n",
    "model.summary()\n"
   ]
  },
  {
   "cell_type": "code",
   "execution_count": 18,
   "id": "7deed538",
   "metadata": {
    "tags": []
   },
   "outputs": [
    {
     "name": "stdout",
     "output_type": "stream",
     "text": [
      "Epoch 1/25\n",
      "107/107 [==============================] - 42s 350ms/step - loss: 0.3648 - acc: 0.6383 - val_loss: 0.3263 - val_acc: 0.6461\n",
      "Epoch 2/25\n",
      "107/107 [==============================] - 36s 340ms/step - loss: 0.3022 - acc: 0.6676 - val_loss: 0.2704 - val_acc: 0.6919\n",
      "Epoch 3/25\n",
      "107/107 [==============================] - 45s 417ms/step - loss: 0.2559 - acc: 0.7172 - val_loss: 0.2320 - val_acc: 0.7376\n",
      "Epoch 4/25\n",
      "107/107 [==============================] - 40s 375ms/step - loss: 0.2178 - acc: 0.7621 - val_loss: 0.2143 - val_acc: 0.7887\n",
      "Epoch 5/25\n",
      "107/107 [==============================] - 40s 372ms/step - loss: 0.1744 - acc: 0.8154 - val_loss: 0.1749 - val_acc: 0.8499\n",
      "Epoch 6/25\n",
      "107/107 [==============================] - 38s 353ms/step - loss: 0.1276 - acc: 0.8727 - val_loss: 0.1336 - val_acc: 0.8940\n",
      "Epoch 7/25\n",
      "107/107 [==============================] - 37s 348ms/step - loss: 0.0833 - acc: 0.9281 - val_loss: 0.1156 - val_acc: 0.9180\n",
      "Epoch 8/25\n",
      "107/107 [==============================] - 37s 349ms/step - loss: 0.0470 - acc: 0.9680 - val_loss: 0.1118 - val_acc: 0.9303\n",
      "Epoch 9/25\n",
      "107/107 [==============================] - 37s 348ms/step - loss: 0.0266 - acc: 0.9856 - val_loss: 0.1194 - val_acc: 0.9229\n",
      "Epoch 10/25\n",
      "107/107 [==============================] - 37s 348ms/step - loss: 0.0138 - acc: 0.9949 - val_loss: 0.1295 - val_acc: 0.9353\n",
      "Epoch 11/25\n",
      "107/107 [==============================] - 37s 350ms/step - loss: 0.0063 - acc: 0.9987 - val_loss: 0.1355 - val_acc: 0.9360\n",
      "Epoch 12/25\n",
      "107/107 [==============================] - 37s 348ms/step - loss: 0.0024 - acc: 0.9998 - val_loss: 0.1475 - val_acc: 0.9363\n",
      "Epoch 13/25\n",
      "107/107 [==============================] - 52s 489ms/step - loss: 0.0024 - acc: 0.9998 - val_loss: 0.1498 - val_acc: 0.9353\n",
      "Epoch 14/25\n",
      "107/107 [==============================] - 62s 584ms/step - loss: 0.0023 - acc: 0.9998 - val_loss: 0.1471 - val_acc: 0.9345\n",
      "Epoch 15/25\n",
      "107/107 [==============================] - 63s 589ms/step - loss: 0.0017 - acc: 0.9998 - val_loss: 0.1537 - val_acc: 0.9351\n",
      "Epoch 16/25\n",
      "107/107 [==============================] - 64s 599ms/step - loss: 9.1178e-04 - acc: 0.9999 - val_loss: 0.1592 - val_acc: 0.9360\n",
      "Epoch 17/25\n",
      "107/107 [==============================] - 64s 599ms/step - loss: 0.0010 - acc: 0.9999 - val_loss: 0.1660 - val_acc: 0.9349\n",
      "Epoch 18/25\n",
      "107/107 [==============================] - 65s 605ms/step - loss: 0.0017 - acc: 0.9999 - val_loss: 0.1665 - val_acc: 0.9357\n",
      "Epoch 19/25\n",
      "107/107 [==============================] - 64s 602ms/step - loss: 9.3431e-04 - acc: 0.9999 - val_loss: 0.1670 - val_acc: 0.9346\n",
      "Epoch 20/25\n",
      "107/107 [==============================] - 65s 611ms/step - loss: 9.8859e-04 - acc: 0.9999 - val_loss: 0.1719 - val_acc: 0.9353\n",
      "Epoch 21/25\n",
      "107/107 [==============================] - 67s 624ms/step - loss: 7.2626e-04 - acc: 0.9999 - val_loss: 0.1676 - val_acc: 0.9351\n",
      "Epoch 22/25\n",
      "107/107 [==============================] - 66s 614ms/step - loss: 0.0079 - acc: 0.9956 - val_loss: 0.1764 - val_acc: 0.9334\n",
      "Epoch 23/25\n",
      "107/107 [==============================] - 67s 623ms/step - loss: 0.0163 - acc: 0.9880 - val_loss: 0.1565 - val_acc: 0.9305\n",
      "Epoch 24/25\n",
      "107/107 [==============================] - 85s 795ms/step - loss: 0.0156 - acc: 0.9884 - val_loss: 0.1790 - val_acc: 0.9287\n",
      "Epoch 25/25\n",
      "107/107 [==============================] - 95s 888ms/step - loss: 0.0059 - acc: 0.9966 - val_loss: 0.1673 - val_acc: 0.9353\n"
     ]
    }
   ],
   "source": [
    "history = model.fit(x_train, y_train, validation_data=(x_val, y_val),\n",
    "          epochs=25, batch_size=150)"
   ]
  },
  {
   "cell_type": "code",
   "execution_count": 19,
   "id": "53c0c57d",
   "metadata": {
    "tags": []
   },
   "outputs": [
    {
     "name": "stdout",
     "output_type": "stream",
     "text": [
      "dict_keys(['loss', 'acc', 'val_loss', 'val_acc'])\n"
     ]
    },
    {
     "data": {
      "image/png": "[encoded data removed]",
      "text/plain": [
       "<Figure size 640x480 with 1 Axes>"
      ]
     },
     "metadata": {},
     "output_type": "display_data"
    },
    {
     "data": {
      "image/png": "[encoded data removed]",
      "text/plain": [
       "<Figure size 640x480 with 1 Axes>"
      ]
     },
     "metadata": {},
     "output_type": "display_data"
    }
   ],
   "source": [
    "import matplotlib.pyplot as plt\n",
    "%matplotlib inline \n",
    "# list all data in history\n",
    "print(history.history.keys())\n",
    "# summarize history for accuracy\n",
    "plt.plot(history.history['acc'])\n",
    "plt.plot(history.history['val_acc'])\n",
    "plt.title('model accuracy')\n",
    "plt.ylabel('accuracy')\n",
    "plt.xlabel('epoch')\n",
    "plt.legend(['train', 'test'], loc='upper left')\n",
    "plt.show()\n",
    "# summarize history for loss\n",
    "plt.plot(history.history['loss'])\n",
    "plt.plot(history.history['val_loss'])\n",
    "plt.title('model loss')\n",
    "plt.ylabel('loss')\n",
    "plt.xlabel('epoch')\n",
    "plt.legend(['train', 'test'], loc='upper left')\n",
    "plt.show()"
   ]
  },
  {
   "cell_type": "code",
   "execution_count": 20,
   "id": "77b0de3b",
   "metadata": {
    "tags": []
   },
   "outputs": [
    {
     "name": "stdout",
     "output_type": "stream",
     "text": [
      "313/313 [==============================] - 25s 66ms/step\n"
     ]
    }
   ],
   "source": [
    "y_pred = model.predict(x_test, verbose=1)"
   ]
  },
  {
   "cell_type": "code",
   "execution_count": 21,
   "id": "f1d0ec85",
   "metadata": {
    "tags": []
   },
   "outputs": [
    {
     "name": "stdout",
     "output_type": "stream",
     "text": [
      "f1 0.9377\n",
      "r1 0.9377\n",
      "p1 0.9377\n",
      "acc 0.9377\n"
     ]
    }
   ],
   "source": [
    "def fx(array):\n",
    "    return np.argmax(array)\n",
    "\n",
    "temp = np.array(y_test)\n",
    "st_pred = y_pred.tolist()\n",
    "st_temp = temp.tolist()\n",
    "\n",
    "arr = np.array(list(map(fx,st_temp)))\n",
    "ans = np.array(list(map(fx,st_pred)))\n",
    "f1 = f1_score(arr,ans, average='micro')\n",
    "r1 = recall_score(arr, ans, average='micro')\n",
    "p1 = precision_score(arr,ans, average='micro')\n",
    "acc = accuracy_score(arr,ans)\n",
    "print('f1',f1)\n",
    "print('r1',r1)\n",
    "print('p1',p1)\n",
    "print('acc', acc)"
   ]
  },
  {
   "cell_type": "code",
   "execution_count": 24,
   "id": "95b19af7",
   "metadata": {},
   "outputs": [
    {
     "data": {
      "text/plain": [
       "array([[ 785,   22,   13,    2,   42],\n",
       "       [  25,  462,   16,   10,   25],\n",
       "       [  13,   17,  623,   21,   46],\n",
       "       [   9,   19,   30, 1222,  164],\n",
       "       [  14,   15,   31,   89, 6285]], dtype=int64)"
      ]
     },
     "execution_count": 24,
     "metadata": {},
     "output_type": "execute_result"
    }
   ],
   "source": [
    "cm = confusion_matrix(arr, ans)\n",
    "cm"
   ]
  },
  {
   "cell_type": "code",
   "execution_count": null,
   "id": "694a6c12-1d8a-49f3-aae0-375f332f3146",
   "metadata": {},
   "outputs": [],
   "source": []
  }
 ],
 "metadata": {
  "kernelspec": {
   "display_name": "Python 3 (ipykernel)",
   "language": "python",
   "name": "python3"
  },
  "language_info": {
   "codemirror_mode": {
    "name": "ipython",
    "version": 3
   },
   "file_extension": ".py",
   "mimetype": "text/x-python",
   "name": "python",
   "nbconvert_exporter": "python",
   "pygments_lexer": "ipython3",
   "version": "3.10.11"
  }
 },
 "nbformat": 4,
 "nbformat_minor": 5
}
