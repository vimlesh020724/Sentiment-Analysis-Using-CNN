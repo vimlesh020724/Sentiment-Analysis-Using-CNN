{
 "cells": [
  {
   "cell_type": "code",
   "execution_count": 24,
   "metadata": {
    "id": "om1a6d7gpMXF",
    "scrolled": true,
    "tags": []
   },
   "outputs": [],
   "source": [
    "import re\n",
    "import os\n",
    "import nltk\n",
    "from nltk.corpus import stopwords\n",
    "\n",
    "\n",
    "import numpy as np\n",
    "import pandas as pd\n",
    "\n",
    "from keras.preprocessing.text import Tokenizer\n",
    "from keras.utils import pad_sequences\n",
    "\n",
    "from keras.layers import Conv1D, MaxPooling1D, Embedding, Concatenate, Dense, Input, Flatten\n",
    "from keras.models import Model\n",
    "\n",
    "from sklearn.model_selection import train_test_split\n",
    "from sklearn.metrics import f1_score, recall_score, precision_score, accuracy_score,confusion_matrix"
   ]
  },
  {
   "cell_type": "code",
   "execution_count": 2,
   "metadata": {
    "tags": []
   },
   "outputs": [],
   "source": [
    "MAX_SEQUENCE_LENGTH = 100\n",
    "MAX_NB_WORDS = 200000\n",
    "EMBEDDING_DIM = 100\n",
    "VALIDATION_SPLIT = 0.2"
   ]
  },
  {
   "cell_type": "code",
   "execution_count": 3,
   "metadata": {
    "colab": {
     "base_uri": "https://localhost:8080/",
     "height": 107
    },
    "id": "UVsxrJCtpMXG",
    "outputId": "ffa54dfb-93fd-46f0-cc13-bf84590f76a2",
    "tags": []
   },
   "outputs": [],
   "source": [
    "df = pd.read_csv(r\"IMDB Dataset.csv\")\n"
   ]
  },
  {
   "cell_type": "code",
   "execution_count": 4,
   "metadata": {
    "tags": []
   },
   "outputs": [
    {
     "name": "stdout",
     "output_type": "stream",
     "text": [
      "<class 'pandas.core.frame.DataFrame'>\n",
      "RangeIndex: 50000 entries, 0 to 49999\n",
      "Data columns (total 2 columns):\n",
      " #   Column     Non-Null Count  Dtype \n",
      "---  ------     --------------  ----- \n",
      " 0   review     50000 non-null  object\n",
      " 1   sentiment  50000 non-null  object\n",
      "dtypes: object(2)\n",
      "memory usage: 781.4+ KB\n"
     ]
    }
   ],
   "source": [
    "df.info()"
   ]
  },
  {
   "cell_type": "code",
   "execution_count": 5,
   "metadata": {
    "colab": {
     "base_uri": "https://localhost:8080/",
     "height": 424
    },
    "id": "8BucMWtVpMXH",
    "outputId": "5587f844-b66d-4a69-fb79-486c7971f5d9",
    "tags": []
   },
   "outputs": [],
   "source": [
    "data = df.sample(n=20000)"
   ]
  },
  {
   "cell_type": "code",
   "execution_count": 6,
   "metadata": {
    "tags": []
   },
   "outputs": [],
   "source": [
    "ps = nltk.PorterStemmer()\n",
    "wl = nltk.WordNetLemmatizer()"
   ]
  },
  {
   "cell_type": "code",
   "execution_count": 7,
   "metadata": {
    "tags": []
   },
   "outputs": [],
   "source": [
    "def preprocess(text):\n",
    "    text = text.lower()\n",
    "    text = re.sub('[^a-zA-Z\\s]','',text)\n",
    "    stop = stopwords.words('english')\n",
    "    text = [ps.stem(wl.lemmatize(word)) for word in text.split() if word not in stop]\n",
    "    return text\n",
    "    "
   ]
  },
  {
   "cell_type": "code",
   "execution_count": 8,
   "metadata": {
    "tags": []
   },
   "outputs": [],
   "source": [
    "processed_data = data['review'].map(preprocess)"
   ]
  },
  {
   "cell_type": "code",
   "execution_count": 9,
   "metadata": {
    "tags": []
   },
   "outputs": [
    {
     "data": {
      "text/plain": [
       "14560    [monstervis, show, grew, late, night, host, pe...\n",
       "16727    [realli, great, film, get, think, parent, frag...\n",
       "1956     [tune, thing, one, night, cabl, channel, minut...\n",
       "8214     [excel, exampl, entreatingli, bad, bmovi, wors...\n",
       "19649    [happen, catch, last, minut, moviel, night, ye...\n",
       "Name: review, dtype: object"
      ]
     },
     "execution_count": 9,
     "metadata": {},
     "output_type": "execute_result"
    }
   ],
   "source": [
    "processed_data.head()"
   ]
  },
  {
   "cell_type": "code",
   "execution_count": 10,
   "metadata": {
    "tags": []
   },
   "outputs": [
    {
     "data": {
      "text/plain": [
       "sentiment\n",
       "positive    10019\n",
       "negative     9981\n",
       "Name: count, dtype: int64"
      ]
     },
     "execution_count": 10,
     "metadata": {},
     "output_type": "execute_result"
    }
   ],
   "source": [
    "data['sentiment'].value_counts()"
   ]
  },
  {
   "cell_type": "code",
   "execution_count": 11,
   "metadata": {
    "tags": []
   },
   "outputs": [
    {
     "name": "stdout",
     "output_type": "stream",
     "text": [
      "Found 80002 unique tokens.\n"
     ]
    }
   ],
   "source": [
    "# Tokenization\n",
    "tokenizer = Tokenizer(num_words=MAX_NB_WORDS)\n",
    "tokenizer.fit_on_texts(processed_data)\n",
    "sequences = tokenizer.texts_to_sequences(processed_data)\n",
    "\n",
    "word_index = tokenizer.word_index\n",
    "print('Found %s unique tokens.' % len(word_index))"
   ]
  },
  {
   "cell_type": "code",
   "execution_count": 12,
   "metadata": {
    "tags": []
   },
   "outputs": [
    {
     "data": {
      "text/plain": [
       "array([1., 1., 0., ..., 0., 0., 1.], dtype=float32)"
      ]
     },
     "execution_count": 12,
     "metadata": {},
     "output_type": "execute_result"
    }
   ],
   "source": [
    "data.loc[data['sentiment'] == 'positive','sentiment'] = 1\n",
    "data.loc[data['sentiment'] == 'negative','sentiment'] = 0\n",
    "labels = np.asarray(data['sentiment']).astype(np.float32)\n",
    "labels"
   ]
  },
  {
   "cell_type": "code",
   "execution_count": 13,
   "metadata": {
    "tags": []
   },
   "outputs": [
    {
     "data": {
      "text/plain": [
       "((20000, 100), (20000,))"
      ]
     },
     "execution_count": 13,
     "metadata": {},
     "output_type": "execute_result"
    }
   ],
   "source": [
    "features = pad_sequences(sequences, MAX_SEQUENCE_LENGTH)\n",
    "\n",
    "features.shape, labels.shape"
   ]
  },
  {
   "cell_type": "code",
   "execution_count": 14,
   "metadata": {
    "tags": []
   },
   "outputs": [
    {
     "data": {
      "text/plain": [
       "((16000, 100), (16000,))"
      ]
     },
     "execution_count": 14,
     "metadata": {},
     "output_type": "execute_result"
    }
   ],
   "source": [
    "x_train, x_test, y_train, y_test = train_test_split( features, labels, test_size=0.20, random_state=42)\n",
    "x_test, x_val, y_test, y_val = train_test_split( features, labels, test_size=0.50, random_state=4)\n",
    "x_train.shape, y_train.shape"
   ]
  },
  {
   "cell_type": "code",
   "execution_count": 15,
   "metadata": {
    "tags": []
   },
   "outputs": [],
   "source": [
    "embedding_index = {}\n",
    "with open(r\"glove.6B.100d.txt\", encoding = 'utf8') as f:\n",
    "    for line in f:\n",
    "        values = line.split()\n",
    "        word = values[0]\n",
    "        vector = np.asarray(values[1:] ,dtype='float32')\n",
    "        \n",
    "        embedding_index[word] = vector\n",
    "        \n",
    "\n",
    "embedding_matrix = np.zeros((len(word_index) + 1, EMBEDDING_DIM))\n",
    "for word, i in word_index.items():\n",
    "    embedding_vector = embedding_index.get(word)\n",
    "    if embedding_vector is not None:\n",
    "        embedding_matrix[i] = embedding_vector\n",
    "        \n",
    "embedding_layer = Embedding(len(word_index) + 1,\n",
    "                            EMBEDDING_DIM,\n",
    "                            weights=[embedding_matrix],\n",
    "                            input_length=MAX_SEQUENCE_LENGTH)"
   ]
  },
  {
   "cell_type": "code",
   "execution_count": 16,
   "metadata": {
    "colab": {
     "base_uri": "https://localhost:8080/"
    },
    "id": "tRdKhAQzpMXP",
    "outputId": "efcab6db-0e76-403e-d0e7-1671bc45ad34",
    "tags": []
   },
   "outputs": [
    {
     "name": "stdout",
     "output_type": "stream",
     "text": [
      "Model: \"model\"\n",
      "__________________________________________________________________________________________________\n",
      " Layer (type)                Output Shape                 Param #   Connected to                  \n",
      "==================================================================================================\n",
      " input_1 (InputLayer)        [(None, 100)]                0         []                            \n",
      "                                                                                                  \n",
      " embedding (Embedding)       (None, 100, 100)             8000300   ['input_1[0][0]']             \n",
      "                                                                                                  \n",
      " conv1d (Conv1D)             (None, 98, 128)              38528     ['embedding[0][0]']           \n",
      "                                                                                                  \n",
      " conv1d_1 (Conv1D)           (None, 97, 128)              51328     ['embedding[0][0]']           \n",
      "                                                                                                  \n",
      " conv1d_2 (Conv1D)           (None, 96, 128)              64128     ['embedding[0][0]']           \n",
      "                                                                                                  \n",
      " max_pooling1d (MaxPooling1  (None, 19, 128)              0         ['conv1d[0][0]']              \n",
      " D)                                                                                               \n",
      "                                                                                                  \n",
      " max_pooling1d_1 (MaxPoolin  (None, 19, 128)              0         ['conv1d_1[0][0]']            \n",
      " g1D)                                                                                             \n",
      "                                                                                                  \n",
      " max_pooling1d_2 (MaxPoolin  (None, 19, 128)              0         ['conv1d_2[0][0]']            \n",
      " g1D)                                                                                             \n",
      "                                                                                                  \n",
      " concatenate (Concatenate)   (None, 19, 384)              0         ['max_pooling1d[0][0]',       \n",
      "                                                                     'max_pooling1d_1[0][0]',     \n",
      "                                                                     'max_pooling1d_2[0][0]']     \n",
      "                                                                                                  \n",
      " conv1d_3 (Conv1D)           (None, 15, 128)              245888    ['concatenate[0][0]']         \n",
      "                                                                                                  \n",
      " max_pooling1d_3 (MaxPoolin  (None, 3, 128)               0         ['conv1d_3[0][0]']            \n",
      " g1D)                                                                                             \n",
      "                                                                                                  \n",
      " flatten (Flatten)           (None, 384)                  0         ['max_pooling1d_3[0][0]']     \n",
      "                                                                                                  \n",
      " dense (Dense)               (None, 128)                  49280     ['flatten[0][0]']             \n",
      "                                                                                                  \n",
      " dense_1 (Dense)             (None, 1)                    129       ['dense[0][0]']               \n",
      "                                                                                                  \n",
      "==================================================================================================\n",
      "Total params: 8449581 (32.23 MB)\n",
      "Trainable params: 8449581 (32.23 MB)\n",
      "Non-trainable params: 0 (0.00 Byte)\n",
      "__________________________________________________________________________________________________\n"
     ]
    }
   ],
   "source": [
    "\n",
    "convs = []\n",
    "filter_sizes = [3,4,5]\n",
    "\n",
    "sequence_input = Input(shape=(MAX_SEQUENCE_LENGTH,))\n",
    "embedded_sequences = embedding_layer(sequence_input)\n",
    "\n",
    "for fsz in filter_sizes:\n",
    "    l_conv = Conv1D(128,fsz,activation='relu')(embedded_sequences)\n",
    "    l_pool = MaxPooling1D(5)(l_conv)\n",
    "    convs.append(l_pool)   \n",
    "l_merge = Concatenate()(convs)\n",
    "l_cov1= Conv1D(filters=128, kernel_size=5, activation='relu')(l_merge)\n",
    "l_pool1 = MaxPooling1D(5)(l_cov1)\n",
    "# l_cov2 = Conv1D(filters=128, kernel_size=5, activation='relu')(l_pool1)\n",
    "# l_pool2 = MaxPooling1D(30)(l_cov2)\n",
    "l_flat = Flatten()(l_pool1)\n",
    "l_dense = Dense(128, activation='relu')(l_flat)\n",
    "preds = Dense(1, activation='sigmoid')(l_dense)\n",
    "\n",
    "model = Model(sequence_input, preds)\n",
    "model.compile(loss='binary_crossentropy',\n",
    "              optimizer='adam',\n",
    "              metrics=['acc'])\n",
    "\n",
    "model.summary()\n"
   ]
  },
  {
   "cell_type": "code",
   "execution_count": 17,
   "metadata": {
    "tags": []
   },
   "outputs": [
    {
     "name": "stdout",
     "output_type": "stream",
     "text": [
      "Epoch 1/15\n",
      "107/107 [==============================] - 154s 1s/step - loss: 0.6435 - acc: 0.6309 - val_loss: 0.4703 - val_acc: 0.7763\n",
      "Epoch 2/15\n",
      "107/107 [==============================] - 89s 830ms/step - loss: 0.3807 - acc: 0.8332 - val_loss: 0.2987 - val_acc: 0.8731\n",
      "Epoch 3/15\n",
      "107/107 [==============================] - 79s 740ms/step - loss: 0.2117 - acc: 0.9174 - val_loss: 0.1564 - val_acc: 0.9497\n",
      "Epoch 4/15\n",
      "107/107 [==============================] - 79s 737ms/step - loss: 0.0761 - acc: 0.9772 - val_loss: 0.0983 - val_acc: 0.9685\n",
      "Epoch 5/15\n",
      "107/107 [==============================] - 78s 727ms/step - loss: 0.0157 - acc: 0.9976 - val_loss: 0.1031 - val_acc: 0.9697\n",
      "Epoch 6/15\n",
      "107/107 [==============================] - 74s 695ms/step - loss: 0.0029 - acc: 0.9999 - val_loss: 0.1162 - val_acc: 0.9714\n",
      "Epoch 7/15\n",
      "107/107 [==============================] - 75s 703ms/step - loss: 9.8015e-04 - acc: 0.9999 - val_loss: 0.1264 - val_acc: 0.9708\n",
      "Epoch 8/15\n",
      "107/107 [==============================] - 79s 739ms/step - loss: 5.5046e-04 - acc: 0.9999 - val_loss: 0.1348 - val_acc: 0.9712\n",
      "Epoch 9/15\n",
      "107/107 [==============================] - 79s 740ms/step - loss: 3.4710e-04 - acc: 1.0000 - val_loss: 0.1442 - val_acc: 0.9709\n",
      "Epoch 10/15\n",
      "107/107 [==============================] - 66s 618ms/step - loss: 2.3503e-04 - acc: 1.0000 - val_loss: 0.1517 - val_acc: 0.9708\n",
      "Epoch 11/15\n",
      "107/107 [==============================] - 56s 524ms/step - loss: 1.5958e-04 - acc: 1.0000 - val_loss: 0.1560 - val_acc: 0.9713\n",
      "Epoch 12/15\n",
      "107/107 [==============================] - 51s 478ms/step - loss: 1.1348e-04 - acc: 1.0000 - val_loss: 0.1613 - val_acc: 0.9712\n",
      "Epoch 13/15\n",
      "107/107 [==============================] - 35s 322ms/step - loss: 8.3486e-05 - acc: 1.0000 - val_loss: 0.1670 - val_acc: 0.9710\n",
      "Epoch 14/15\n",
      "107/107 [==============================] - 33s 311ms/step - loss: 6.2298e-05 - acc: 1.0000 - val_loss: 0.1757 - val_acc: 0.9708\n",
      "Epoch 15/15\n",
      "107/107 [==============================] - 33s 307ms/step - loss: 4.6239e-05 - acc: 1.0000 - val_loss: 0.1810 - val_acc: 0.9708\n"
     ]
    }
   ],
   "source": [
    "history = model.fit(x_train, y_train, validation_data=(x_val, y_val),\n",
    "          epochs=15, batch_size=150, verbose=1)"
   ]
  },
  {
   "cell_type": "code",
   "execution_count": 18,
   "metadata": {
    "tags": []
   },
   "outputs": [
    {
     "name": "stdout",
     "output_type": "stream",
     "text": [
      "dict_keys(['loss', 'acc', 'val_loss', 'val_acc'])\n"
     ]
    },
    {
     "data": {
      "image/png": "[encoded data removed]",
      "text/plain": [
       "<Figure size 640x480 with 1 Axes>"
      ]
     },
     "metadata": {},
     "output_type": "display_data"
    },
    {
     "data": {
      "image/png": "[encoded data removed]",
      "text/plain": [
       "<Figure size 640x480 with 1 Axes>"
      ]
     },
     "metadata": {},
     "output_type": "display_data"
    }
   ],
   "source": [
    "import matplotlib.pyplot as plt\n",
    "%matplotlib inline \n",
    "# list all data in history\n",
    "print(history.history.keys())\n",
    "# summarize history for accuracy\n",
    "plt.plot(history.history['acc'])\n",
    "plt.plot(history.history['val_acc'])\n",
    "plt.title('model accuracy')\n",
    "plt.ylabel('accuracy')\n",
    "plt.xlabel('epoch')\n",
    "plt.legend(['train', 'test'], loc='upper left')\n",
    "plt.show()\n",
    "# summarize history for loss\n",
    "plt.plot(history.history['loss'])\n",
    "plt.plot(history.history['val_loss'])\n",
    "plt.title('model loss')\n",
    "plt.ylabel('loss')\n",
    "plt.xlabel('epoch')\n",
    "plt.legend(['train', 'test'], loc='upper left')\n",
    "plt.show()"
   ]
  },
  {
   "cell_type": "code",
   "execution_count": 19,
   "metadata": {
    "tags": []
   },
   "outputs": [
    {
     "name": "stdout",
     "output_type": "stream",
     "text": [
      "313/313 [==============================] - 6s 18ms/step\n"
     ]
    }
   ],
   "source": [
    "y_pred = model.predict(x_test, verbose = 1)"
   ]
  },
  {
   "cell_type": "code",
   "execution_count": 20,
   "metadata": {
    "tags": []
   },
   "outputs": [
    {
     "data": {
      "text/plain": [
       "array([[9.4798241e-07],\n",
       "       [6.9008665e-10],\n",
       "       [4.6176899e-07],\n",
       "       ...,\n",
       "       [9.9999750e-01],\n",
       "       [1.0000000e+00],\n",
       "       [2.4714072e-10]], dtype=float32)"
      ]
     },
     "execution_count": 20,
     "metadata": {},
     "output_type": "execute_result"
    }
   ],
   "source": [
    "y_pred"
   ]
  },
  {
   "cell_type": "code",
   "execution_count": 21,
   "metadata": {
    "id": "0flL9PU6pMXU",
    "tags": []
   },
   "outputs": [],
   "source": [
    "def fx(num):\n",
    "    if num >= 0.5:\n",
    "        return 1\n",
    "    else:\n",
    "        return 0\n",
    "\n",
    "arr = np.asarray(list(map(fx,y_pred)))\n",
    "ans = np.asarray(y_test)"
   ]
  },
  {
   "cell_type": "code",
   "execution_count": 22,
   "metadata": {
    "id": "_yU2Y0dXpMXV",
    "tags": []
   },
   "outputs": [
    {
     "name": "stdout",
     "output_type": "stream",
     "text": [
      "f1 0.9679999155183645\n",
      "recall 0.968\n",
      "precision 0.9680005280132001\n",
      "acc 0.968\n"
     ]
    }
   ],
   "source": [
    "f1 = f1_score(arr,ans, zero_division=1.0,average='weighted')\n",
    "r1 = recall_score(arr,ans, zero_division=1.0,average='weighted')\n",
    "p1 = precision_score(arr,ans, zero_division=1.0,average='weighted')\n",
    "acc = accuracy_score(arr,ans)\n",
    "print('f1',f1)\n",
    "print('recall',r1)\n",
    "print('precision',p1)\n",
    "print('acc',acc)"
   ]
  },
  {
   "cell_type": "code",
   "execution_count": 25,
   "metadata": {},
   "outputs": [
    {
     "data": {
      "text/plain": [
       "array([[4818,  163],\n",
       "       [ 157, 4862]], dtype=int64)"
      ]
     },
     "execution_count": 25,
     "metadata": {},
     "output_type": "execute_result"
    }
   ],
   "source": [
    "cm = confusion_matrix(arr, ans)\n",
    "cm"
   ]
  },
  {
   "cell_type": "code",
   "execution_count": null,
   "metadata": {},
   "outputs": [],
   "source": []
  }
 ],
 "metadata": {
  "accelerator": "TPU",
  "colab": {
   "provenance": []
  },
  "gpuClass": "standard",
  "kernelspec": {
   "display_name": "Python 3 (ipykernel)",
   "language": "python",
   "name": "python3"
  },
  "language_info": {
   "codemirror_mode": {
    "name": "ipython",
    "version": 3
   },
   "file_extension": ".py",
   "mimetype": "text/x-python",
   "name": "python",
   "nbconvert_exporter": "python",
   "pygments_lexer": "ipython3",
   "version": "3.10.11"
  }
 },
 "nbformat": 4,
 "nbformat_minor": 4
}
