{
 "cells": [
  {
   "cell_type": "code",
   "execution_count": 2,
   "id": "438e07e9",
   "metadata": {},
   "outputs": [],
   "source": []
  },
  {
   "cell_type": "code",
   "execution_count": 23,
   "id": "7e5003b8",
   "metadata": {
    "tags": []
   },
   "outputs": [],
   "source": [
    "import re\n",
    "import nltk\n",
    "import os\n",
    "from nltk.corpus import stopwords\n",
    "\n",
    "\n",
    "import numpy as np\n",
    "import pandas as pd\n",
    "import matplotlib.pyplot as plt\n",
    "\n",
    "from keras.preprocessing.text import Tokenizer\n",
    "from keras.utils import pad_sequences\n",
    "\n",
    "from keras.layers import Conv1D, MaxPooling1D, Embedding, Concatenate, Dense, Input, Flatten\n",
    "from keras.models import Model\n",
    "\n",
    "from sklearn.model_selection import train_test_split\n",
    "from sklearn.metrics import f1_score, recall_score, precision_score, accuracy_score,confusion_matrix"
   ]
  },
  {
   "cell_type": "code",
   "execution_count": 2,
   "id": "77084f1c",
   "metadata": {
    "tags": []
   },
   "outputs": [],
   "source": [
    "MAX_SEQUENCE_LENGTH = 100\n",
    "MAX_NB_WORDS = 2000000\n",
    "EMBEDDING_DIM = 100"
   ]
  },
  {
   "cell_type": "code",
   "execution_count": 3,
   "id": "7c741a8c",
   "metadata": {
    "tags": []
   },
   "outputs": [],
   "source": [
    "df = pd.read_csv(\"Reviews.csv\")"
   ]
  },
  {
   "cell_type": "code",
   "execution_count": 4,
   "id": "31b60d5e",
   "metadata": {
    "tags": []
   },
   "outputs": [
    {
     "name": "stdout",
     "output_type": "stream",
     "text": [
      "<class 'pandas.core.frame.DataFrame'>\n",
      "RangeIndex: 568454 entries, 0 to 568453\n",
      "Data columns (total 10 columns):\n",
      " #   Column                  Non-Null Count   Dtype \n",
      "---  ------                  --------------   ----- \n",
      " 0   Id                      568454 non-null  int64 \n",
      " 1   ProductId               568454 non-null  object\n",
      " 2   UserId                  568454 non-null  object\n",
      " 3   ProfileName             568428 non-null  object\n",
      " 4   HelpfulnessNumerator    568454 non-null  int64 \n",
      " 5   HelpfulnessDenominator  568454 non-null  int64 \n",
      " 6   Score                   568454 non-null  int64 \n",
      " 7   Time                    568454 non-null  int64 \n",
      " 8   Summary                 568427 non-null  object\n",
      " 9   Text                    568454 non-null  object\n",
      "dtypes: int64(5), object(5)\n",
      "memory usage: 43.4+ MB\n"
     ]
    }
   ],
   "source": [
    "df.info()"
   ]
  },
  {
   "cell_type": "code",
   "execution_count": 5,
   "id": "1d166503",
   "metadata": {
    "tags": []
   },
   "outputs": [],
   "source": [
    "data = df.sample(n=20000)"
   ]
  },
  {
   "cell_type": "code",
   "execution_count": 6,
   "id": "6ed81304",
   "metadata": {
    "tags": []
   },
   "outputs": [
    {
     "name": "stdout",
     "output_type": "stream",
     "text": [
      "<class 'pandas.core.frame.DataFrame'>\n",
      "Index: 20000 entries, 192114 to 77697\n",
      "Data columns (total 10 columns):\n",
      " #   Column                  Non-Null Count  Dtype \n",
      "---  ------                  --------------  ----- \n",
      " 0   Id                      20000 non-null  int64 \n",
      " 1   ProductId               20000 non-null  object\n",
      " 2   UserId                  20000 non-null  object\n",
      " 3   ProfileName             20000 non-null  object\n",
      " 4   HelpfulnessNumerator    20000 non-null  int64 \n",
      " 5   HelpfulnessDenominator  20000 non-null  int64 \n",
      " 6   Score                   20000 non-null  int64 \n",
      " 7   Time                    20000 non-null  int64 \n",
      " 8   Summary                 19998 non-null  object\n",
      " 9   Text                    20000 non-null  object\n",
      "dtypes: int64(5), object(5)\n",
      "memory usage: 1.7+ MB\n"
     ]
    }
   ],
   "source": [
    "data.info()"
   ]
  },
  {
   "cell_type": "code",
   "execution_count": 7,
   "id": "889fb995",
   "metadata": {
    "tags": []
   },
   "outputs": [],
   "source": [
    "data.reset_index(inplace=True, drop=True)"
   ]
  },
  {
   "cell_type": "code",
   "execution_count": 8,
   "id": "7b08c9f3",
   "metadata": {
    "tags": []
   },
   "outputs": [],
   "source": [
    "wl = nltk.WordNetLemmatizer()\n",
    "ps = nltk.PorterStemmer()"
   ]
  },
  {
   "cell_type": "code",
   "execution_count": 9,
   "id": "06929f5f",
   "metadata": {
    "tags": []
   },
   "outputs": [],
   "source": [
    "def preprocess(text):\n",
    "    text = text.lower()\n",
    "    text = re.sub('[^a-zA-Z\\s]','',text)\n",
    "    stop = stopwords.words('english')\n",
    "    text = [ps.stem(wl.lemmatize(word)) for word in text.split() if word not in stop]\n",
    "    return text\n",
    "    "
   ]
  },
  {
   "cell_type": "code",
   "execution_count": 10,
   "id": "e196ae78",
   "metadata": {
    "tags": []
   },
   "outputs": [],
   "source": [
    "processed_data = data['Text'].map(preprocess)"
   ]
  },
  {
   "cell_type": "code",
   "execution_count": 11,
   "id": "ca0748ac",
   "metadata": {
    "tags": []
   },
   "outputs": [
    {
     "data": {
      "text/plain": [
       "28927"
      ]
     },
     "execution_count": 11,
     "metadata": {},
     "output_type": "execute_result"
    }
   ],
   "source": [
    "tokenizer = Tokenizer()#num_words = MAX_NB_WORDS)\n",
    "tokenizer.fit_on_texts(processed_data)\n",
    "sequences = tokenizer.texts_to_sequences(processed_data)\n",
    "\n",
    "word_index = tokenizer.word_index\n",
    "len(word_index)"
   ]
  },
  {
   "cell_type": "code",
   "execution_count": 12,
   "id": "a490e0b0",
   "metadata": {
    "tags": []
   },
   "outputs": [
    {
     "data": {
      "image/png": "[encoded data removed]",
      "text/plain": [
       "<Figure size 640x480 with 1 Axes>"
      ]
     },
     "metadata": {},
     "output_type": "display_data"
    }
   ],
   "source": [
    "dct = []\n",
    "for i in sequences:\n",
    "    dct.append(len(i))\n",
    "        \n",
    "plt.hist(dct)\n",
    "plt.show()"
   ]
  },
  {
   "cell_type": "code",
   "execution_count": 13,
   "id": "2b71a5af",
   "metadata": {
    "tags": []
   },
   "outputs": [
    {
     "data": {
      "text/plain": [
       "((20000, 100), (20000, 5))"
      ]
     },
     "execution_count": 13,
     "metadata": {},
     "output_type": "execute_result"
    }
   ],
   "source": [
    "final = pad_sequences(sequences, MAX_SEQUENCE_LENGTH)\n",
    "labels = pd.get_dummies(data['Score'],dtype='int')\n",
    "final.shape, labels.shape"
   ]
  },
  {
   "cell_type": "code",
   "execution_count": 14,
   "id": "8059720e",
   "metadata": {
    "tags": []
   },
   "outputs": [
    {
     "data": {
      "text/html": [
       "<div>\n",
       "<style scoped>\n",
       "    .dataframe tbody tr th:only-of-type {\n",
       "        vertical-align: middle;\n",
       "    }\n",
       "\n",
       "    .dataframe tbody tr th {\n",
       "        vertical-align: top;\n",
       "    }\n",
       "\n",
       "    .dataframe thead th {\n",
       "        text-align: right;\n",
       "    }\n",
       "</style>\n",
       "<table border=\"1\" class=\"dataframe\">\n",
       "  <thead>\n",
       "    <tr style=\"text-align: right;\">\n",
       "      <th></th>\n",
       "      <th>1</th>\n",
       "      <th>2</th>\n",
       "      <th>3</th>\n",
       "      <th>4</th>\n",
       "      <th>5</th>\n",
       "    </tr>\n",
       "  </thead>\n",
       "  <tbody>\n",
       "    <tr>\n",
       "      <th>0</th>\n",
       "      <td>0</td>\n",
       "      <td>0</td>\n",
       "      <td>0</td>\n",
       "      <td>0</td>\n",
       "      <td>1</td>\n",
       "    </tr>\n",
       "    <tr>\n",
       "      <th>1</th>\n",
       "      <td>0</td>\n",
       "      <td>0</td>\n",
       "      <td>0</td>\n",
       "      <td>0</td>\n",
       "      <td>1</td>\n",
       "    </tr>\n",
       "    <tr>\n",
       "      <th>2</th>\n",
       "      <td>0</td>\n",
       "      <td>0</td>\n",
       "      <td>0</td>\n",
       "      <td>1</td>\n",
       "      <td>0</td>\n",
       "    </tr>\n",
       "    <tr>\n",
       "      <th>3</th>\n",
       "      <td>0</td>\n",
       "      <td>0</td>\n",
       "      <td>0</td>\n",
       "      <td>0</td>\n",
       "      <td>1</td>\n",
       "    </tr>\n",
       "    <tr>\n",
       "      <th>4</th>\n",
       "      <td>0</td>\n",
       "      <td>0</td>\n",
       "      <td>1</td>\n",
       "      <td>0</td>\n",
       "      <td>0</td>\n",
       "    </tr>\n",
       "  </tbody>\n",
       "</table>\n",
       "</div>"
      ],
      "text/plain": [
       "   1  2  3  4  5\n",
       "0  0  0  0  0  1\n",
       "1  0  0  0  0  1\n",
       "2  0  0  0  1  0\n",
       "3  0  0  0  0  1\n",
       "4  0  0  1  0  0"
      ]
     },
     "execution_count": 14,
     "metadata": {},
     "output_type": "execute_result"
    }
   ],
   "source": [
    "labels.head()"
   ]
  },
  {
   "cell_type": "code",
   "execution_count": 15,
   "id": "62bcf6dd",
   "metadata": {
    "tags": []
   },
   "outputs": [
    {
     "data": {
      "text/plain": [
       "((16000, 100), (10000, 100), (10000, 100), (16000, 5), (10000, 5), (10000, 5))"
      ]
     },
     "execution_count": 15,
     "metadata": {},
     "output_type": "execute_result"
    }
   ],
   "source": [
    "x_train, x_test, y_train, y_test = train_test_split(final, labels, test_size = 0.2, random_state = 20)\n",
    "x_test, x_val, y_test, y_val = train_test_split( final, labels, test_size=0.50, random_state=4)\n",
    "x_train.shape, x_test.shape, x_val.shape, y_train.shape, y_test.shape, y_val.shape"
   ]
  },
  {
   "cell_type": "code",
   "execution_count": 16,
   "id": "00e11828",
   "metadata": {},
   "outputs": [],
   "source": [
    "embedding_index = {}\n",
    "with open(r\"glove.6B.100d.txt\", encoding = 'utf8') as f:\n",
    "    for line in f:\n",
    "        values = line.split()\n",
    "        word = values[0]\n",
    "        vector = np.asarray(values[1:] ,dtype='float32')\n",
    "        \n",
    "        embedding_index[word] = vector\n",
    "        \n",
    "\n",
    "embedding_matrix = np.zeros((len(word_index) + 1, EMBEDDING_DIM))\n",
    "for word, i in word_index.items():\n",
    "    embedding_vector = embedding_index.get(word)\n",
    "    if embedding_vector is not None:\n",
    "        embedding_matrix[i] = embedding_vector\n",
    "        \n",
    "embedding_layer = Embedding(len(word_index) + 1,\n",
    "                            EMBEDDING_DIM,\n",
    "                            weights=[embedding_matrix],\n",
    "                            input_length=MAX_SEQUENCE_LENGTH)"
   ]
  },
  {
   "cell_type": "code",
   "execution_count": 17,
   "id": "1430fb7e",
   "metadata": {},
   "outputs": [
    {
     "name": "stdout",
     "output_type": "stream",
     "text": [
      "Model: \"model\"\n",
      "__________________________________________________________________________________________________\n",
      " Layer (type)                Output Shape                 Param #   Connected to                  \n",
      "==================================================================================================\n",
      " input_1 (InputLayer)        [(None, 100)]                0         []                            \n",
      "                                                                                                  \n",
      " embedding (Embedding)       (None, 100, 100)             2892800   ['input_1[0][0]']             \n",
      "                                                                                                  \n",
      " conv1d (Conv1D)             (None, 98, 128)              38528     ['embedding[0][0]']           \n",
      "                                                                                                  \n",
      " conv1d_1 (Conv1D)           (None, 97, 128)              51328     ['embedding[0][0]']           \n",
      "                                                                                                  \n",
      " conv1d_2 (Conv1D)           (None, 96, 128)              64128     ['embedding[0][0]']           \n",
      "                                                                                                  \n",
      " max_pooling1d (MaxPooling1  (None, 19, 128)              0         ['conv1d[0][0]']              \n",
      " D)                                                                                               \n",
      "                                                                                                  \n",
      " max_pooling1d_1 (MaxPoolin  (None, 19, 128)              0         ['conv1d_1[0][0]']            \n",
      " g1D)                                                                                             \n",
      "                                                                                                  \n",
      " max_pooling1d_2 (MaxPoolin  (None, 19, 128)              0         ['conv1d_2[0][0]']            \n",
      " g1D)                                                                                             \n",
      "                                                                                                  \n",
      " concatenate (Concatenate)   (None, 19, 384)              0         ['max_pooling1d[0][0]',       \n",
      "                                                                     'max_pooling1d_1[0][0]',     \n",
      "                                                                     'max_pooling1d_2[0][0]']     \n",
      "                                                                                                  \n",
      " conv1d_3 (Conv1D)           (None, 15, 128)              245888    ['concatenate[0][0]']         \n",
      "                                                                                                  \n",
      " max_pooling1d_3 (MaxPoolin  (None, 3, 128)               0         ['conv1d_3[0][0]']            \n",
      " g1D)                                                                                             \n",
      "                                                                                                  \n",
      " flatten (Flatten)           (None, 384)                  0         ['max_pooling1d_3[0][0]']     \n",
      "                                                                                                  \n",
      " dense (Dense)               (None, 128)                  49280     ['flatten[0][0]']             \n",
      "                                                                                                  \n",
      " dense_1 (Dense)             (None, 5)                    645       ['dense[0][0]']               \n",
      "                                                                                                  \n",
      "==================================================================================================\n",
      "Total params: 3342597 (12.75 MB)\n",
      "Trainable params: 3342597 (12.75 MB)\n",
      "Non-trainable params: 0 (0.00 Byte)\n",
      "__________________________________________________________________________________________________\n"
     ]
    }
   ],
   "source": [
    "convs = []\n",
    "filter_sizes = [3,4,5]\n",
    "\n",
    "sequence_input = Input(shape=(MAX_SEQUENCE_LENGTH,))\n",
    "embedded_sequences = embedding_layer(sequence_input)\n",
    "\n",
    "for fsz in filter_sizes:\n",
    "    l_conv = Conv1D(128,fsz,activation='relu')(embedded_sequences)\n",
    "    l_pool = MaxPooling1D(5)(l_conv)\n",
    "    convs.append(l_pool)   \n",
    "l_merge = Concatenate()(convs)\n",
    "l_cov1= Conv1D(filters=128, kernel_size=5, activation='relu')(l_merge)\n",
    "l_pool1 = MaxPooling1D(5)(l_cov1)\n",
    "# l_cov2 = Conv1D(filters=128, kernel_size=5, activation='relu')(l_pool1)\n",
    "# l_pool2 = MaxPooling1D(30)(l_cov2)\n",
    "l_flat = Flatten()(l_pool1)\n",
    "l_dense = Dense(128, activation='relu')(l_flat)\n",
    "preds = Dense(5, activation='softmax')(l_dense)\n",
    "\n",
    "model = Model(sequence_input, preds)\n",
    "model.compile(loss='binary_crossentropy',\n",
    "              optimizer='adam',\n",
    "              metrics=['acc'])\n",
    "\n",
    "model.summary()\n"
   ]
  },
  {
   "cell_type": "code",
   "execution_count": 18,
   "id": "7deed538",
   "metadata": {},
   "outputs": [
    {
     "name": "stdout",
     "output_type": "stream",
     "text": [
      "Epoch 1/25\n",
      "107/107 [==============================] - 77s 617ms/step - loss: 0.3631 - acc: 0.6367 - val_loss: 0.3208 - val_acc: 0.6491\n",
      "Epoch 2/25\n",
      "107/107 [==============================] - 64s 595ms/step - loss: 0.3068 - acc: 0.6653 - val_loss: 0.2757 - val_acc: 0.6981\n",
      "Epoch 3/25\n",
      "107/107 [==============================] - 63s 592ms/step - loss: 0.2576 - acc: 0.7182 - val_loss: 0.2278 - val_acc: 0.7565\n",
      "Epoch 4/25\n",
      "107/107 [==============================] - 63s 592ms/step - loss: 0.2025 - acc: 0.7796 - val_loss: 0.1925 - val_acc: 0.7875\n",
      "Epoch 5/25\n",
      "107/107 [==============================] - 64s 601ms/step - loss: 0.1468 - acc: 0.8492 - val_loss: 0.1461 - val_acc: 0.8764\n",
      "Epoch 6/25\n",
      "107/107 [==============================] - 63s 586ms/step - loss: 0.0913 - acc: 0.9214 - val_loss: 0.1301 - val_acc: 0.9053\n",
      "Epoch 7/25\n",
      "107/107 [==============================] - 65s 612ms/step - loss: 0.0481 - acc: 0.9694 - val_loss: 0.1201 - val_acc: 0.9281\n",
      "Epoch 8/25\n",
      "107/107 [==============================] - 65s 608ms/step - loss: 0.0233 - acc: 0.9901 - val_loss: 0.1226 - val_acc: 0.9303\n",
      "Epoch 9/25\n",
      "107/107 [==============================] - 67s 630ms/step - loss: 0.0093 - acc: 0.9982 - val_loss: 0.1340 - val_acc: 0.9334\n",
      "Epoch 10/25\n",
      "107/107 [==============================] - 65s 610ms/step - loss: 0.0035 - acc: 0.9999 - val_loss: 0.1455 - val_acc: 0.9347\n",
      "Epoch 11/25\n",
      "107/107 [==============================] - 68s 638ms/step - loss: 0.0016 - acc: 1.0000 - val_loss: 0.1516 - val_acc: 0.9345\n",
      "Epoch 12/25\n",
      "107/107 [==============================] - 97s 913ms/step - loss: 7.8552e-04 - acc: 1.0000 - val_loss: 0.1607 - val_acc: 0.9344\n",
      "Epoch 13/25\n",
      "107/107 [==============================] - 87s 811ms/step - loss: 4.6573e-04 - acc: 1.0000 - val_loss: 0.1667 - val_acc: 0.9334\n",
      "Epoch 14/25\n",
      "107/107 [==============================] - 66s 620ms/step - loss: 3.1728e-04 - acc: 1.0000 - val_loss: 0.1745 - val_acc: 0.9340\n",
      "Epoch 15/25\n",
      "107/107 [==============================] - 66s 616ms/step - loss: 2.3235e-04 - acc: 1.0000 - val_loss: 0.1810 - val_acc: 0.9343\n",
      "Epoch 16/25\n",
      "107/107 [==============================] - 66s 622ms/step - loss: 1.7868e-04 - acc: 1.0000 - val_loss: 0.1855 - val_acc: 0.9344\n",
      "Epoch 17/25\n",
      "107/107 [==============================] - 66s 620ms/step - loss: 1.4288e-04 - acc: 1.0000 - val_loss: 0.1887 - val_acc: 0.9334\n",
      "Epoch 18/25\n",
      "107/107 [==============================] - 62s 586ms/step - loss: 1.1684e-04 - acc: 1.0000 - val_loss: 0.1924 - val_acc: 0.9334\n",
      "Epoch 19/25\n",
      "107/107 [==============================] - 63s 590ms/step - loss: 9.7979e-05 - acc: 1.0000 - val_loss: 0.1966 - val_acc: 0.9341\n",
      "Epoch 20/25\n",
      "107/107 [==============================] - 66s 614ms/step - loss: 8.2567e-05 - acc: 1.0000 - val_loss: 0.1996 - val_acc: 0.9335\n",
      "Epoch 21/25\n",
      "107/107 [==============================] - 68s 633ms/step - loss: 7.0725e-05 - acc: 1.0000 - val_loss: 0.2027 - val_acc: 0.9335\n",
      "Epoch 22/25\n",
      "107/107 [==============================] - 67s 629ms/step - loss: 6.1191e-05 - acc: 1.0000 - val_loss: 0.2054 - val_acc: 0.9333\n",
      "Epoch 23/25\n",
      "107/107 [==============================] - 54s 509ms/step - loss: 5.3039e-05 - acc: 1.0000 - val_loss: 0.2083 - val_acc: 0.9336\n",
      "Epoch 24/25\n",
      "107/107 [==============================] - 47s 444ms/step - loss: 4.4206e-05 - acc: 1.0000 - val_loss: 0.2120 - val_acc: 0.9332\n",
      "Epoch 25/25\n",
      "107/107 [==============================] - 47s 442ms/step - loss: 3.6038e-05 - acc: 1.0000 - val_loss: 0.2169 - val_acc: 0.9337\n"
     ]
    }
   ],
   "source": [
    "history = model.fit(x_train, y_train, validation_data=(x_val, y_val),\n",
    "          epochs=25, batch_size=150)"
   ]
  },
  {
   "cell_type": "code",
   "execution_count": 19,
   "id": "53c0c57d",
   "metadata": {},
   "outputs": [
    {
     "name": "stdout",
     "output_type": "stream",
     "text": [
      "dict_keys(['loss', 'acc', 'val_loss', 'val_acc'])\n"
     ]
    },
    {
     "data": {
      "image/png": "[encoded data removed]",
      "text/plain": [
       "<Figure size 640x480 with 1 Axes>"
      ]
     },
     "metadata": {},
     "output_type": "display_data"
    },
    {
     "data": {
      "image/png": "[encoded data removed]",
      "text/plain": [
       "<Figure size 640x480 with 1 Axes>"
      ]
     },
     "metadata": {},
     "output_type": "display_data"
    }
   ],
   "source": [
    "import matplotlib.pyplot as plt\n",
    "%matplotlib inline \n",
    "# list all data in history\n",
    "print(history.history.keys())\n",
    "# summarize history for accuracy\n",
    "plt.plot(history.history['acc'])\n",
    "plt.plot(history.history['val_acc'])\n",
    "plt.title('model accuracy')\n",
    "plt.ylabel('accuracy')\n",
    "plt.xlabel('epoch')\n",
    "plt.legend(['train', 'test'], loc='upper left')\n",
    "plt.show()\n",
    "# summarize history for loss\n",
    "plt.plot(history.history['loss'])\n",
    "plt.plot(history.history['val_loss'])\n",
    "plt.title('model loss')\n",
    "plt.ylabel('loss')\n",
    "plt.xlabel('epoch')\n",
    "plt.legend(['train', 'test'], loc='upper left')\n",
    "plt.show()"
   ]
  },
  {
   "cell_type": "code",
   "execution_count": 20,
   "id": "77b0de3b",
   "metadata": {},
   "outputs": [
    {
     "name": "stdout",
     "output_type": "stream",
     "text": [
      "313/313 [==============================] - 12s 35ms/step\n"
     ]
    }
   ],
   "source": [
    "y_pred = model.predict(x_test, verbose=1)"
   ]
  },
  {
   "cell_type": "code",
   "execution_count": 21,
   "id": "f1d0ec85",
   "metadata": {},
   "outputs": [
    {
     "name": "stdout",
     "output_type": "stream",
     "text": [
      "f1 0.9341\n",
      "r1 0.9341\n",
      "p1 0.9341\n",
      "acc 0.9341\n"
     ]
    }
   ],
   "source": [
    "def fx(array):\n",
    "    return np.argmax(array)\n",
    "\n",
    "temp = np.array(y_test)\n",
    "st_pred = y_pred.tolist()\n",
    "st_temp = temp.tolist()\n",
    "\n",
    "arr = np.array(list(map(fx,st_temp)))\n",
    "ans = np.array(list(map(fx,st_pred)))\n",
    "f1 = f1_score(arr,ans, average='micro')\n",
    "r1 = recall_score(arr, ans, average='micro')\n",
    "p1 = precision_score(arr,ans, average='micro')\n",
    "acc = accuracy_score(arr,ans)\n",
    "print('f1',f1)\n",
    "print('r1',r1)\n",
    "print('p1',p1)\n",
    "print('acc', acc)"
   ]
  },
  {
   "cell_type": "code",
   "execution_count": 24,
   "id": "95b19af7",
   "metadata": {},
   "outputs": [
    {
     "data": {
      "text/plain": [
       "array([[ 826,   21,   18,    7,   40],\n",
       "       [  22,  423,   14,   18,   33],\n",
       "       [  15,   15,  647,   28,   69],\n",
       "       [  10,    9,   24, 1231,  175],\n",
       "       [  23,    8,   23,   87, 6214]], dtype=int64)"
      ]
     },
     "execution_count": 24,
     "metadata": {},
     "output_type": "execute_result"
    }
   ],
   "source": [
    "cm = confusion_matrix(arr, ans)\n",
    "cm"
   ]
  },
  {
   "cell_type": "code",
   "execution_count": null,
   "id": "3b83c015-5caa-49c7-a217-b3d26b7616be",
   "metadata": {},
   "outputs": [],
   "source": []
  }
 ],
 "metadata": {
  "kernelspec": {
   "display_name": "Python 3 (ipykernel)",
   "language": "python",
   "name": "python3"
  },
  "language_info": {
   "codemirror_mode": {
    "name": "ipython",
    "version": 3
   },
   "file_extension": ".py",
   "mimetype": "text/x-python",
   "name": "python",
   "nbconvert_exporter": "python",
   "pygments_lexer": "ipython3",
   "version": "3.10.11"
  }
 },
 "nbformat": 4,
 "nbformat_minor": 5
}
